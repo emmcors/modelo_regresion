{
 "cells": [
  {
   "cell_type": "markdown",
   "metadata": {},
   "source": [
    "# Predecir ventas futuras\n",
    "\n",
    "https://www.kaggle.com/competitions/competitive-data-science-predict-future-sales/overview\n",
    "\n",
    "Trabajaremos con un conjunto de datos de series de tiempo que consta de datos de ventas diarias, proporcionados por una de las empresas de software más grandes de Rusia: 1C Company.   \n",
    "Traremos de pronosticar las ventas totales de cada producto y tienda durante el próximo mes. \n",
    "\n",
    "## Descripción del conjunto de datos\n",
    "Se proporcionan datos históricos de ventas diarios. La tarea consiste en pronosticar la cantidad total de productos vendidos en cada tienda para el conjunto de prueba. \n",
    "\n",
    "NOTA 1: La lista de tiendas y productos cambia ligeramente cada mes. Crear un modelo sólido que pueda manejar tales situaciones es parte del desafío.\n",
    "\n",
    "NOTA 2: Las propuestas se evalúan mediante  el error cuadrático medio (RMSE) . Los valores objetivo reales se recortan en el rango [0,20].\n",
    "\n",
    "## Descripciones de archivos\n",
    "* sales_train.csv : Conjunto de entrenamiento. Datos históricos diarios desde enero 2013 hasta octubre 2015.\n",
    "* test.csv : Conjunto de prueba. Debes pronosticar las ventas de estas tiendas y productos para noviembre 2015.\n",
    "* sample_submission.csv : Archivo de envío de muestra en el formato correcto.\n",
    "* items.csv - Información complementaria sobre los artículos/productos.\n",
    "* item_categories.csv   : Información complementaria sobre las categorías de los artículos.\n",
    "* shops.csv -Iinformación complementaria sobre las tiendas.\n",
    "## Campos de datos\n",
    "* ID  : ID que representa una tupla (Tienda, Artículo) dentro del conjunto de prueba\n",
    "* shop_id - Identificador único de una tienda\n",
    "* item_id - Identificador único de un producto\n",
    "* item_category_id : Identificador único de la categoría del artículo\n",
    "* item_cnt_day : Cantidad de productos vendidos. Se predice una cantidad mensual de esta medida.\n",
    "* item_price - Precio actual de un artículo\n",
    "* date  - Fecha en formato dd/mm/aaaa\n",
    "* date_block_num : Número de mes consecutivo, utilizado para mayor comodidad. Enero de 2013 es 0, febrero de 2013 es 1, y octubre de 2015 es 33\n",
    "* item_name  - Nombre del artículo\n",
    "* shop_name - Nombre de la tienda\n",
    "* item_category_name - Nombre de la categoría del artículo  \n",
    "\n",
    "Se permite utilizar este conjunto de datos para cualquier propósito, incluido el uso comercial."
   ]
  },
  {
   "cell_type": "code",
   "execution_count": 1,
   "metadata": {},
   "outputs": [],
   "source": [
    "import pandas as pd\n",
    "import matplotlib.pyplot as plt\n",
    "import seaborn as sns\n",
    "from sklearn.calibration import LabelEncoder\n",
    "from statsmodels.tsa.seasonal import seasonal_decompose\n",
    "from sklearn.preprocessing import StandardScaler"
   ]
  },
  {
   "cell_type": "code",
   "execution_count": 2,
   "metadata": {},
   "outputs": [],
   "source": [
    "items = pd.read_csv('./datasets/items.csv')\n",
    "categories = pd.read_csv('./datasets/item_categories.csv')\n",
    "test_tarjet = pd.read_csv('./datasets/sample_submission.csv')\n",
    "shops = pd.read_csv('./datasets/shops.csv')\n",
    "train = pd.read_csv('./datasets/sales_train.csv')\n",
    "test_features = pd.read_csv('./datasets/test.csv')"
   ]
  },
  {
   "cell_type": "markdown",
   "metadata": {},
   "source": [
    "## Análisis exploratorio de datos"
   ]
  },
  {
   "cell_type": "code",
   "execution_count": 3,
   "metadata": {},
   "outputs": [
    {
     "name": "stdout",
     "output_type": "stream",
     "text": [
      "****************items********************\n",
      "item_name           object\n",
      "item_id              int64\n",
      "item_category_id     int64\n",
      "dtype: object\n",
      "****************categories***************\n",
      "item_category_name    object\n",
      "item_category_id       int64\n",
      "dtype: object\n",
      "*****************shops*******************\n",
      "shop_name    object\n",
      "shop_id       int64\n",
      "dtype: object\n",
      "*****************train*******************\n",
      "date               object\n",
      "date_block_num      int64\n",
      "shop_id             int64\n",
      "item_id             int64\n",
      "item_price        float64\n",
      "item_cnt_day      float64\n",
      "dtype: object\n",
      "*****************test********************\n",
      "ID         int64\n",
      "shop_id    int64\n",
      "item_id    int64\n",
      "dtype: object\n",
      "ID                  int64\n",
      "item_cnt_month    float64\n",
      "dtype: object\n"
     ]
    }
   ],
   "source": [
    "# tipos de datos de las columnas\n",
    "print('****************items********************')\n",
    "print(items.dtypes)\n",
    "print('****************categories***************')\n",
    "print(categories.dtypes)\n",
    "print('*****************shops*******************')\n",
    "print(shops.dtypes)\n",
    "print('*****************train*******************')\n",
    "print(train.dtypes)\n",
    "print('*****************test********************')\n",
    "print(test_features.dtypes)\n",
    "print(test_tarjet.dtypes)\n"
   ]
  },
  {
   "cell_type": "markdown",
   "metadata": {},
   "source": [
    "Transfomaremos las fechas del dataframe de entrenamiento en el tipo de dato correspondiente."
   ]
  },
  {
   "cell_type": "code",
   "execution_count": 4,
   "metadata": {},
   "outputs": [],
   "source": [
    "train['date'] = pd.to_datetime(train['date'], format='%d.%m.%Y')"
   ]
  },
  {
   "cell_type": "code",
   "execution_count": 5,
   "metadata": {},
   "outputs": [
    {
     "name": "stdout",
     "output_type": "stream",
     "text": [
      "****************items********************\n",
      "item_name           0\n",
      "item_id             0\n",
      "item_category_id    0\n",
      "dtype: int64\n",
      "****************categories***************\n",
      "item_category_name    0\n",
      "item_category_id      0\n",
      "dtype: int64\n",
      "*****************shops*******************\n",
      "shop_name    0\n",
      "shop_id      0\n",
      "dtype: int64\n",
      "*****************train*******************\n",
      "date              0\n",
      "date_block_num    0\n",
      "shop_id           0\n",
      "item_id           0\n",
      "item_price        0\n",
      "item_cnt_day      0\n",
      "dtype: int64\n",
      "*****************test********************\n",
      "ID         0\n",
      "shop_id    0\n",
      "item_id    0\n",
      "dtype: int64\n",
      "ID                0\n",
      "item_cnt_month    0\n",
      "dtype: int64\n"
     ]
    }
   ],
   "source": [
    "# valores ausentes\n",
    "print('****************items********************')\n",
    "print(items.isnull().sum())\n",
    "print('****************categories***************')\n",
    "print(categories.isnull().sum())\n",
    "print('*****************shops*******************')\n",
    "print(shops.isnull().sum())\n",
    "print('*****************train*******************')\n",
    "print(train.isnull().sum())\n",
    "print('*****************test********************')\n",
    "print(test_features.isnull().sum())\n",
    "print(test_tarjet.isnull().sum())"
   ]
  },
  {
   "cell_type": "markdown",
   "metadata": {},
   "source": [
    "No encontramos valores ausentes dentro de los datos."
   ]
  },
  {
   "cell_type": "code",
   "execution_count": 6,
   "metadata": {},
   "outputs": [
    {
     "name": "stdout",
     "output_type": "stream",
     "text": [
      "****************items********************\n",
      "item_name           22170\n",
      "item_id             22170\n",
      "item_category_id       84\n",
      "dtype: int64\n",
      "****************categories***************\n",
      "item_category_name    84\n",
      "item_category_id      84\n",
      "dtype: int64\n",
      "*****************shops*******************\n",
      "shop_name    60\n",
      "shop_id      60\n",
      "dtype: int64\n",
      "*****************train*******************\n",
      "date               1034\n",
      "date_block_num       34\n",
      "shop_id              60\n",
      "item_id           21807\n",
      "item_price        19993\n",
      "item_cnt_day        198\n",
      "dtype: int64\n",
      "*****************test********************\n",
      "ID         214200\n",
      "shop_id        42\n",
      "item_id      5100\n",
      "dtype: int64\n",
      "ID                214200\n",
      "item_cnt_month         1\n",
      "dtype: int64\n"
     ]
    }
   ],
   "source": [
    "# número de valores únicos\n",
    "print('****************items********************')\n",
    "print(items.nunique())\n",
    "print('****************categories***************')\n",
    "print(categories.nunique())\n",
    "print('*****************shops*******************')\n",
    "print(shops.nunique())\n",
    "print('*****************train*******************')\n",
    "print(train.nunique())\n",
    "print('*****************test********************')\n",
    "print(test_features.nunique())\n",
    "print(test_tarjet.nunique())"
   ]
  },
  {
   "cell_type": "code",
   "execution_count": 7,
   "metadata": {},
   "outputs": [
    {
     "name": "stdout",
     "output_type": "stream",
     "text": [
      "****************items********************\n",
      "(22170, 3)\n",
      "****************categories***************\n",
      "(84, 2)\n",
      "*****************shops*******************\n",
      "(60, 2)\n",
      "*****************train*******************\n",
      "(2935849, 6)\n",
      "*****************test********************\n",
      "(214200, 3)\n",
      "(214200, 2)\n"
     ]
    }
   ],
   "source": [
    "# tamaño de los dataframes\n",
    "print('****************items********************')\n",
    "print(items.shape)\n",
    "print('****************categories***************')\n",
    "print(categories.shape)\n",
    "print('*****************shops*******************')\n",
    "print(shops.shape)\n",
    "print('*****************train*******************')\n",
    "print(train.shape)\n",
    "print('*****************test********************')\n",
    "print(test_features.shape)\n",
    "print(test_tarjet.shape)"
   ]
  },
  {
   "cell_type": "markdown",
   "metadata": {},
   "source": [
    "Tenemos 22,170 artículos con nombres e identificadores únicos, los cuales pertenecen a una de las 84 categorías existentes.  \n",
    "Contamos con 2,935,849 compras en el conjunto de datos de entrenamiento, mediante las cuales se compraron 21,807 artículos diferentes, en una de las 60 tiendas disponibles, en un perido de 34 meses.  \n",
    "Además existe un conjunto de prueba con 214,200 compras, 5,100 artículos diferentes y 42 tiendas, en el transcurso de 1 mes.\n"
   ]
  },
  {
   "cell_type": "markdown",
   "metadata": {},
   "source": [
    "### Gestión de duplicados"
   ]
  },
  {
   "cell_type": "code",
   "execution_count": 8,
   "metadata": {},
   "outputs": [
    {
     "name": "stdout",
     "output_type": "stream",
     "text": [
      "****************items********************\n",
      "0\n",
      "****************categories***************\n",
      "0\n",
      "*****************shops*******************\n",
      "0\n",
      "*****************train*******************\n",
      "6\n",
      "*****************test********************\n",
      "0\n",
      "0\n"
     ]
    }
   ],
   "source": [
    "# filas totalmente duplicadas\n",
    "print('****************items********************')\n",
    "print(items.duplicated().sum())\n",
    "print('****************categories***************')\n",
    "print(categories.duplicated().sum())\n",
    "print('*****************shops*******************')\n",
    "print(shops.duplicated().sum())\n",
    "print('*****************train*******************')\n",
    "print(train.duplicated().sum())\n",
    "print('*****************test********************')\n",
    "print(test_features.duplicated().sum())\n",
    "print(test_tarjet.duplicated().sum())"
   ]
  },
  {
   "cell_type": "code",
   "execution_count": 9,
   "metadata": {},
   "outputs": [
    {
     "data": {
      "text/html": [
       "<div>\n",
       "<style scoped>\n",
       "    .dataframe tbody tr th:only-of-type {\n",
       "        vertical-align: middle;\n",
       "    }\n",
       "\n",
       "    .dataframe tbody tr th {\n",
       "        vertical-align: top;\n",
       "    }\n",
       "\n",
       "    .dataframe thead th {\n",
       "        text-align: right;\n",
       "    }\n",
       "</style>\n",
       "<table border=\"1\" class=\"dataframe\">\n",
       "  <thead>\n",
       "    <tr style=\"text-align: right;\">\n",
       "      <th></th>\n",
       "      <th>date</th>\n",
       "      <th>date_block_num</th>\n",
       "      <th>shop_id</th>\n",
       "      <th>item_id</th>\n",
       "      <th>item_price</th>\n",
       "      <th>item_cnt_day</th>\n",
       "    </tr>\n",
       "  </thead>\n",
       "  <tbody>\n",
       "    <tr>\n",
       "      <th>76962</th>\n",
       "      <td>2013-01-05</td>\n",
       "      <td>0</td>\n",
       "      <td>54</td>\n",
       "      <td>20130</td>\n",
       "      <td>149.0</td>\n",
       "      <td>1.0</td>\n",
       "    </tr>\n",
       "    <tr>\n",
       "      <th>1435367</th>\n",
       "      <td>2014-02-23</td>\n",
       "      <td>13</td>\n",
       "      <td>50</td>\n",
       "      <td>3423</td>\n",
       "      <td>999.0</td>\n",
       "      <td>1.0</td>\n",
       "    </tr>\n",
       "    <tr>\n",
       "      <th>1496766</th>\n",
       "      <td>2014-03-23</td>\n",
       "      <td>14</td>\n",
       "      <td>21</td>\n",
       "      <td>3423</td>\n",
       "      <td>999.0</td>\n",
       "      <td>1.0</td>\n",
       "    </tr>\n",
       "    <tr>\n",
       "      <th>1671873</th>\n",
       "      <td>2014-05-01</td>\n",
       "      <td>16</td>\n",
       "      <td>50</td>\n",
       "      <td>3423</td>\n",
       "      <td>999.0</td>\n",
       "      <td>1.0</td>\n",
       "    </tr>\n",
       "    <tr>\n",
       "      <th>1866340</th>\n",
       "      <td>2014-07-12</td>\n",
       "      <td>18</td>\n",
       "      <td>25</td>\n",
       "      <td>3423</td>\n",
       "      <td>999.0</td>\n",
       "      <td>1.0</td>\n",
       "    </tr>\n",
       "    <tr>\n",
       "      <th>2198566</th>\n",
       "      <td>2014-12-31</td>\n",
       "      <td>23</td>\n",
       "      <td>42</td>\n",
       "      <td>21619</td>\n",
       "      <td>499.0</td>\n",
       "      <td>1.0</td>\n",
       "    </tr>\n",
       "  </tbody>\n",
       "</table>\n",
       "</div>"
      ],
      "text/plain": [
       "              date  date_block_num  shop_id  item_id  item_price  item_cnt_day\n",
       "76962   2013-01-05               0       54    20130       149.0           1.0\n",
       "1435367 2014-02-23              13       50     3423       999.0           1.0\n",
       "1496766 2014-03-23              14       21     3423       999.0           1.0\n",
       "1671873 2014-05-01              16       50     3423       999.0           1.0\n",
       "1866340 2014-07-12              18       25     3423       999.0           1.0\n",
       "2198566 2014-12-31              23       42    21619       499.0           1.0"
      ]
     },
     "execution_count": 9,
     "metadata": {},
     "output_type": "execute_result"
    }
   ],
   "source": [
    "# duplicados en el conjunto de entrenamiento\n",
    "train[train.duplicated()]"
   ]
  },
  {
   "cell_type": "code",
   "execution_count": 10,
   "metadata": {},
   "outputs": [],
   "source": [
    "# eliminamos los duplicados\n",
    "train.drop_duplicates(inplace=True)"
   ]
  },
  {
   "cell_type": "markdown",
   "metadata": {},
   "source": [
    "### Los 10 artículos más vendidos"
   ]
  },
  {
   "cell_type": "code",
   "execution_count": 11,
   "metadata": {},
   "outputs": [
    {
     "data": {
      "text/plain": [
       "item_id\n",
       "20949    187642.0\n",
       "2808      17245.0\n",
       "3732      16642.0\n",
       "17717     15830.0\n",
       "5822      14515.0\n",
       "3734      11688.0\n",
       "6675      10289.0\n",
       "3731      10099.0\n",
       "1855      10032.0\n",
       "16787      9227.0\n",
       "Name: item_cnt_day, dtype: float64"
      ]
     },
     "execution_count": 11,
     "metadata": {},
     "output_type": "execute_result"
    }
   ],
   "source": [
    "top_items = train.groupby('item_id')['item_cnt_day'].sum().sort_values(ascending=False).head(10)\n",
    "top_items"
   ]
  },
  {
   "cell_type": "markdown",
   "metadata": {},
   "source": [
    "### Las 10 tiendas con más artículos vendidos"
   ]
  },
  {
   "cell_type": "code",
   "execution_count": 12,
   "metadata": {},
   "outputs": [
    {
     "data": {
      "text/plain": [
       "shop_id\n",
       "31    310777.0\n",
       "25    241919.0\n",
       "54    185789.0\n",
       "28    184557.0\n",
       "42    144933.0\n",
       "57    141107.0\n",
       "27    136657.0\n",
       "6     100489.0\n",
       "58     81734.0\n",
       "46     78990.0\n",
       "Name: item_cnt_day, dtype: float64"
      ]
     },
     "execution_count": 12,
     "metadata": {},
     "output_type": "execute_result"
    }
   ],
   "source": [
    "top_shops = train.groupby('shop_id')['item_cnt_day'].sum().sort_values(ascending=False).head(10)\n",
    "top_shops"
   ]
  },
  {
   "cell_type": "markdown",
   "metadata": {},
   "source": [
    "### Distribución de los datos"
   ]
  },
  {
   "cell_type": "markdown",
   "metadata": {},
   "source": [
    "#### Distribución del precio de los artículos\n",
    "Veamos el rango en el que se mueven los precios de los diferentes artículos."
   ]
  },
  {
   "cell_type": "code",
   "execution_count": 13,
   "metadata": {},
   "outputs": [
    {
     "data": {
      "text/plain": [
       "<Axes: xlabel='item_price'>"
      ]
     },
     "execution_count": 13,
     "metadata": {},
     "output_type": "execute_result"
    },
    {
     "data": {
      "image/png": "[encoded data removed]",
      "text/plain": [
       "<Figure size 640x480 with 1 Axes>"
      ]
     },
     "metadata": {},
     "output_type": "display_data"
    }
   ],
   "source": [
    "sns.boxplot(x=train['item_price'])"
   ]
  },
  {
   "cell_type": "markdown",
   "metadata": {},
   "source": [
    "Podemos observar una importante desviación con respecto a la media en cuanto el precio de algunos productos."
   ]
  },
  {
   "cell_type": "code",
   "execution_count": 14,
   "metadata": {},
   "outputs": [
    {
     "data": {
      "text/plain": [
       "(2935843, 6)"
      ]
     },
     "execution_count": 14,
     "metadata": {},
     "output_type": "execute_result"
    }
   ],
   "source": [
    "# tamaño del conjunto de entrenamiento\n",
    "train.shape"
   ]
  },
  {
   "cell_type": "code",
   "execution_count": 15,
   "metadata": {},
   "outputs": [
    {
     "data": {
      "text/plain": [
       "(14, 6)"
      ]
     },
     "execution_count": 15,
     "metadata": {},
     "output_type": "execute_result"
    }
   ],
   "source": [
    "# tamaño del conjunto de ventas con precios mayores a 40k\n",
    "train[train['item_price']>40000].shape"
   ]
  },
  {
   "cell_type": "code",
   "execution_count": 16,
   "metadata": {},
   "outputs": [
    {
     "data": {
      "text/plain": [
       "(1, 6)"
      ]
     },
     "execution_count": 16,
     "metadata": {},
     "output_type": "execute_result"
    }
   ],
   "source": [
    "# tamaño del conjunto de ventas con precios menores o iguales a 0\n",
    "train[train['item_price']<=0].shape"
   ]
  },
  {
   "cell_type": "markdown",
   "metadata": {},
   "source": [
    "Vemos que el de las 2,935,843 transacciones, solo el precio de 14 artículos son mayores a $40,000. Así que eliminaremos las ventas con costos superiores a $40 mil y menores o iguales a $0, y volveremos a gráficar la distribución."
   ]
  },
  {
   "cell_type": "code",
   "execution_count": 17,
   "metadata": {},
   "outputs": [],
   "source": [
    "train = train[train['item_price']<40000]\n",
    "train = train[train['item_price']>0]"
   ]
  },
  {
   "cell_type": "code",
   "execution_count": 18,
   "metadata": {},
   "outputs": [
    {
     "data": {
      "text/plain": [
       "<Axes: xlabel='item_price'>"
      ]
     },
     "execution_count": 18,
     "metadata": {},
     "output_type": "execute_result"
    },
    {
     "data": {
      "image/png": "[encoded data removed]",
      "text/plain": [
       "<Figure size 640x480 with 1 Axes>"
      ]
     },
     "metadata": {},
     "output_type": "display_data"
    }
   ],
   "source": [
    "sns.boxplot(x=train['item_price'])"
   ]
  },
  {
   "cell_type": "markdown",
   "metadata": {},
   "source": [
    "Aún vemos un notable sesgo a la derecha en los datos. Intentaremos normalizarlos, delimitando el conjunto a las ventas con un precio de artículo inferior a 5,000."
   ]
  },
  {
   "cell_type": "code",
   "execution_count": 19,
   "metadata": {},
   "outputs": [
    {
     "data": {
      "text/plain": [
       "(33796, 6)"
      ]
     },
     "execution_count": 19,
     "metadata": {},
     "output_type": "execute_result"
    }
   ],
   "source": [
    "# tamaño del conjunto de ventas con precios mayores a 5k\n",
    "train[train['item_price']>5000].shape"
   ]
  },
  {
   "cell_type": "code",
   "execution_count": 20,
   "metadata": {},
   "outputs": [],
   "source": [
    "train = train[train['item_price']<5000]"
   ]
  },
  {
   "cell_type": "code",
   "execution_count": 21,
   "metadata": {},
   "outputs": [
    {
     "data": {
      "text/plain": [
       "<Axes: xlabel='item_price'>"
      ]
     },
     "execution_count": 21,
     "metadata": {},
     "output_type": "execute_result"
    },
    {
     "data": {
      "image/png": "[encoded data removed]",
      "text/plain": [
       "<Figure size 640x480 with 1 Axes>"
      ]
     },
     "metadata": {},
     "output_type": "display_data"
    }
   ],
   "source": [
    "sns.boxplot(x=train['item_price'])"
   ]
  },
  {
   "cell_type": "markdown",
   "metadata": {},
   "source": [
    "#### Distribución del número de artículos\n",
    "Ahora veamos la distribución en cuanto al número de artículos en el conjunto de entrenamiento."
   ]
  },
  {
   "cell_type": "code",
   "execution_count": 22,
   "metadata": {},
   "outputs": [
    {
     "data": {
      "text/plain": [
       "<Axes: xlabel='item_cnt_day'>"
      ]
     },
     "execution_count": 22,
     "metadata": {},
     "output_type": "execute_result"
    },
    {
     "data": {
      "image/png": "[encoded data removed]",
      "text/plain": [
       "<Figure size 640x480 with 1 Axes>"
      ]
     },
     "metadata": {},
     "output_type": "display_data"
    }
   ],
   "source": [
    "sns.boxplot(x=train['item_cnt_day'])"
   ]
  },
  {
   "cell_type": "code",
   "execution_count": 23,
   "metadata": {},
   "outputs": [
    {
     "data": {
      "text/plain": [
       "item_cnt_day\n",
       " 49.0         25\n",
       " 45.0         31\n",
       " 43.0         32\n",
       " 50.0         33\n",
       " 46.0         35\n",
       " 42.0         35\n",
       " 44.0         40\n",
       " 39.0         51\n",
       " 38.0         52\n",
       " 41.0         56\n",
       " 40.0         58\n",
       " 37.0         59\n",
       " 36.0         61\n",
       " 35.0         68\n",
       "-2.0          75\n",
       " 34.0         77\n",
       " 33.0         79\n",
       " 29.0        100\n",
       " 32.0        103\n",
       " 31.0        123\n",
       " 27.0        128\n",
       " 28.0        129\n",
       " 30.0        144\n",
       " 26.0        173\n",
       " 25.0        178\n",
       " 23.0        195\n",
       " 24.0        199\n",
       " 22.0        238\n",
       " 21.0        284\n",
       " 19.0        342\n",
       " 20.0        358\n",
       " 18.0        387\n",
       " 17.0        432\n",
       " 16.0        536\n",
       " 15.0        631\n",
       " 14.0        708\n",
       " 13.0        901\n",
       " 12.0       1064\n",
       " 11.0       1239\n",
       " 10.0       1782\n",
       " 9.0        2145\n",
       " 8.0        2873\n",
       " 7.0        3987\n",
       " 6.0        6246\n",
       "-1.0        7024\n",
       " 5.0       10321\n",
       " 4.0       19401\n",
       " 3.0       46718\n",
       " 2.0      191614\n",
       " 1.0     2599863\n",
       "Name: item_id, dtype: int64"
      ]
     },
     "execution_count": 23,
     "metadata": {},
     "output_type": "execute_result"
    }
   ],
   "source": [
    "# ventas ordenadas por número de artículos\n",
    "train.groupby('item_cnt_day')['item_id'].count().sort_values().tail(50)"
   ]
  },
  {
   "cell_type": "markdown",
   "metadata": {},
   "source": [
    "Notamos que el mayor número de transacciones tienen ventas con menos de 12 artículos. Por lo tanto, conservaremos solo las transacciones que estén por debajo de este umbral. Además existen algunas transacciones con cantidades negativas, por lo que también nos desharemos de ellas."
   ]
  },
  {
   "cell_type": "code",
   "execution_count": 24,
   "metadata": {},
   "outputs": [
    {
     "data": {
      "text/plain": [
       "(7634, 6)"
      ]
     },
     "execution_count": 24,
     "metadata": {},
     "output_type": "execute_result"
    }
   ],
   "source": [
    "# tamaño del conjunto de transacciones con más de 12 artículos\n",
    "train[train['item_cnt_day']>12].shape"
   ]
  },
  {
   "cell_type": "code",
   "execution_count": 25,
   "metadata": {},
   "outputs": [
    {
     "data": {
      "text/plain": [
       "(7124, 6)"
      ]
     },
     "execution_count": 25,
     "metadata": {},
     "output_type": "execute_result"
    }
   ],
   "source": [
    "# tamaño del conjunto de transacciones con menos de 1 artículo\n",
    "train[train['item_cnt_day']<1].shape"
   ]
  },
  {
   "cell_type": "code",
   "execution_count": 26,
   "metadata": {},
   "outputs": [],
   "source": [
    "train = train[train['item_cnt_day']<12]\n",
    "train = train[train['item_cnt_day']>0]"
   ]
  },
  {
   "cell_type": "code",
   "execution_count": 27,
   "metadata": {},
   "outputs": [
    {
     "data": {
      "text/plain": [
       "<Axes: xlabel='item_cnt_day'>"
      ]
     },
     "execution_count": 27,
     "metadata": {},
     "output_type": "execute_result"
    },
    {
     "data": {
      "image/png": "[encoded data removed]",
      "text/plain": [
       "<Figure size 640x480 with 1 Axes>"
      ]
     },
     "metadata": {},
     "output_type": "display_data"
    }
   ],
   "source": [
    "sns.boxplot(x=train['item_cnt_day'])"
   ]
  },
  {
   "cell_type": "markdown",
   "metadata": {},
   "source": [
    "### Venta mensual de artículos\n",
    "\n",
    "Analicemos el numéro de artículos vendidos por mes."
   ]
  },
  {
   "cell_type": "code",
   "execution_count": 28,
   "metadata": {},
   "outputs": [
    {
     "data": {
      "image/png": "[encoded data removed]",
      "text/plain": [
       "<Figure size 1200x600 with 1 Axes>"
      ]
     },
     "metadata": {},
     "output_type": "display_data"
    }
   ],
   "source": [
    "month_items = train.groupby('date_block_num')['item_cnt_day'].sum()\n",
    "\n",
    "plt.figure(figsize=(12,6))\n",
    "plt.grid(alpha=0.3)\n",
    "month_items.plot(marker='.')\n",
    "plt.show()"
   ]
  },
  {
   "cell_type": "markdown",
   "metadata": {},
   "source": [
    "Veamos una versión más detallada de este gráfico agrupando los datos por día."
   ]
  },
  {
   "cell_type": "code",
   "execution_count": 29,
   "metadata": {},
   "outputs": [
    {
     "name": "stdout",
     "output_type": "stream",
     "text": [
      "True\n"
     ]
    }
   ],
   "source": [
    "# Obtendremos el total de articulos vendidos por día\n",
    "daily_items = train.groupby('date')['item_cnt_day'].sum().reset_index() # creamos un df agrupando por día  sumando el total de articulos\n",
    "daily_items.set_index('date', inplace=True) # convertimos la columna con la fecha en el índice\n",
    "print(daily_items.index.is_monotonic_increasing) # compobamos que las fechas estén en orden cronológico"
   ]
  },
  {
   "cell_type": "code",
   "execution_count": 30,
   "metadata": {},
   "outputs": [
    {
     "data": {
      "image/png": "[encoded data removed]",
      "text/plain": [
       "<Figure size 2000x300 with 1 Axes>"
      ]
     },
     "metadata": {},
     "output_type": "display_data"
    }
   ],
   "source": [
    "plt.figure(figsize=(20,3))\n",
    "plt.grid(alpha=0.3)\n",
    "plt.plot(daily_items, marker='.')\n",
    "plt.show()"
   ]
  },
  {
   "cell_type": "markdown",
   "metadata": {},
   "source": [
    "Suavizaremos los datos buscando valores menos susceptibles a fluctuaciones, es decir, utilizaremos la media aritmética. Esto con el objetivo de clarificar la tendencia y estacionalidad de los datos."
   ]
  },
  {
   "cell_type": "code",
   "execution_count": 31,
   "metadata": {},
   "outputs": [
    {
     "data": {
      "text/plain": [
       "<Axes: xlabel='date'>"
      ]
     },
     "execution_count": 31,
     "metadata": {},
     "output_type": "execute_result"
    },
    {
     "data": {
      "image/png": "[encoded data removed]",
      "text/plain": [
       "<Figure size 640x480 with 1 Axes>"
      ]
     },
     "metadata": {},
     "output_type": "display_data"
    }
   ],
   "source": [
    "two_weeks_items = daily_items.resample('2W').sum() # hacemos un remuestreo de los datos a 2 semanas\n",
    "two_weeks_items['rolling_mean'] = two_weeks_items.rolling(10).mean() # obtenemos la media móvil\n",
    "two_weeks_items.plot(marker='.')\n"
   ]
  },
  {
   "cell_type": "code",
   "execution_count": 32,
   "metadata": {},
   "outputs": [
    {
     "data": {
      "text/plain": [
       "<Axes: xlabel='date'>"
      ]
     },
     "execution_count": 32,
     "metadata": {},
     "output_type": "execute_result"
    },
    {
     "data": {
      "image/png": "[encoded data removed]",
      "text/plain": [
       "<Figure size 640x480 with 1 Axes>"
      ]
     },
     "metadata": {},
     "output_type": "display_data"
    }
   ],
   "source": [
    "# obtenemos una sección más especifica del gráfico anterior\n",
    "two_weeks_items['2013-06':'2015-06'].plot(marker='.')"
   ]
  },
  {
   "cell_type": "code",
   "execution_count": 33,
   "metadata": {},
   "outputs": [
    {
     "data": {
      "image/png": "[encoded data removed]",
      "text/plain": [
       "<Figure size 640x480 with 3 Axes>"
      ]
     },
     "metadata": {},
     "output_type": "display_data"
    }
   ],
   "source": [
    "# gráficamos la tendencia y estacionalidad de los datos\n",
    "decomposed = seasonal_decompose(daily_items.resample('1W').sum())\n",
    "\n",
    "plt.subplot(311)\n",
    "decomposed.trend.plot(ax=plt.gca())\n",
    "plt.title('Tendencia')\n",
    "plt.subplot(312)\n",
    "decomposed.seasonal.plot(ax=plt.gca())\n",
    "plt.title('Estacionalidad')\n",
    "plt.subplot(313)\n",
    "decomposed.resid.plot(ax=plt.gca())\n",
    "plt.title('Residuales')\n",
    "\n",
    "plt.tight_layout() "
   ]
  },
  {
   "cell_type": "markdown",
   "metadata": {},
   "source": [
    "Podemos ver un incremento estacional en la compra de productos, durante el invierno, en dos años consecutivos. Además la tendencia general, es un decremento en las compras.\n",
    "\n",
    "### Artículos por categoría"
   ]
  },
  {
   "cell_type": "code",
   "execution_count": 34,
   "metadata": {},
   "outputs": [
    {
     "data": {
      "text/html": [
       "<div>\n",
       "<style scoped>\n",
       "    .dataframe tbody tr th:only-of-type {\n",
       "        vertical-align: middle;\n",
       "    }\n",
       "\n",
       "    .dataframe tbody tr th {\n",
       "        vertical-align: top;\n",
       "    }\n",
       "\n",
       "    .dataframe thead th {\n",
       "        text-align: right;\n",
       "    }\n",
       "</style>\n",
       "<table border=\"1\" class=\"dataframe\">\n",
       "  <thead>\n",
       "    <tr style=\"text-align: right;\">\n",
       "      <th></th>\n",
       "      <th>date</th>\n",
       "      <th>date_block_num</th>\n",
       "      <th>shop_id</th>\n",
       "      <th>item_id</th>\n",
       "      <th>item_price</th>\n",
       "      <th>item_cnt_day</th>\n",
       "      <th>item_name</th>\n",
       "      <th>item_category_id</th>\n",
       "      <th>item_category_name</th>\n",
       "    </tr>\n",
       "  </thead>\n",
       "  <tbody>\n",
       "    <tr>\n",
       "      <th>0</th>\n",
       "      <td>2013-01-02</td>\n",
       "      <td>0</td>\n",
       "      <td>59</td>\n",
       "      <td>22154</td>\n",
       "      <td>999.00</td>\n",
       "      <td>1.0</td>\n",
       "      <td>ЯВЛЕНИЕ 2012 (BD)</td>\n",
       "      <td>37</td>\n",
       "      <td>Кино - Blu-Ray</td>\n",
       "    </tr>\n",
       "    <tr>\n",
       "      <th>1</th>\n",
       "      <td>2013-01-03</td>\n",
       "      <td>0</td>\n",
       "      <td>25</td>\n",
       "      <td>2552</td>\n",
       "      <td>899.00</td>\n",
       "      <td>1.0</td>\n",
       "      <td>DEEP PURPLE  The House Of Blue Light  LP</td>\n",
       "      <td>58</td>\n",
       "      <td>Музыка - Винил</td>\n",
       "    </tr>\n",
       "    <tr>\n",
       "      <th>2</th>\n",
       "      <td>2013-01-06</td>\n",
       "      <td>0</td>\n",
       "      <td>25</td>\n",
       "      <td>2554</td>\n",
       "      <td>1709.05</td>\n",
       "      <td>1.0</td>\n",
       "      <td>DEEP PURPLE  Who Do You Think We Are  LP</td>\n",
       "      <td>58</td>\n",
       "      <td>Музыка - Винил</td>\n",
       "    </tr>\n",
       "    <tr>\n",
       "      <th>3</th>\n",
       "      <td>2013-01-15</td>\n",
       "      <td>0</td>\n",
       "      <td>25</td>\n",
       "      <td>2555</td>\n",
       "      <td>1099.00</td>\n",
       "      <td>1.0</td>\n",
       "      <td>DEEP PURPLE 30 Very Best Of 2CD (Фирм.)</td>\n",
       "      <td>56</td>\n",
       "      <td>Музыка - CD фирменного производства</td>\n",
       "    </tr>\n",
       "    <tr>\n",
       "      <th>4</th>\n",
       "      <td>2013-01-10</td>\n",
       "      <td>0</td>\n",
       "      <td>25</td>\n",
       "      <td>2564</td>\n",
       "      <td>349.00</td>\n",
       "      <td>1.0</td>\n",
       "      <td>DEEP PURPLE Perihelion: Live In Concert DVD (К...</td>\n",
       "      <td>59</td>\n",
       "      <td>Музыка - Музыкальное видео</td>\n",
       "    </tr>\n",
       "  </tbody>\n",
       "</table>\n",
       "</div>"
      ],
      "text/plain": [
       "        date  date_block_num  shop_id  item_id  item_price  item_cnt_day  \\\n",
       "0 2013-01-02               0       59    22154      999.00           1.0   \n",
       "1 2013-01-03               0       25     2552      899.00           1.0   \n",
       "2 2013-01-06               0       25     2554     1709.05           1.0   \n",
       "3 2013-01-15               0       25     2555     1099.00           1.0   \n",
       "4 2013-01-10               0       25     2564      349.00           1.0   \n",
       "\n",
       "                                           item_name  item_category_id  \\\n",
       "0                                  ЯВЛЕНИЕ 2012 (BD)                37   \n",
       "1           DEEP PURPLE  The House Of Blue Light  LP                58   \n",
       "2           DEEP PURPLE  Who Do You Think We Are  LP                58   \n",
       "3            DEEP PURPLE 30 Very Best Of 2CD (Фирм.)                56   \n",
       "4  DEEP PURPLE Perihelion: Live In Concert DVD (К...                59   \n",
       "\n",
       "                    item_category_name  \n",
       "0                       Кино - Blu-Ray  \n",
       "1                       Музыка - Винил  \n",
       "2                       Музыка - Винил  \n",
       "3  Музыка - CD фирменного производства  \n",
       "4           Музыка - Музыкальное видео  "
      ]
     },
     "execution_count": 34,
     "metadata": {},
     "output_type": "execute_result"
    }
   ],
   "source": [
    "# concatenación de dataframes para la obtención de la categoría\n",
    "items_category = train.merge(items, on='item_id', how='left')\n",
    "items_category = items_category.merge(categories, on='item_category_id', how='left')\n",
    "items_category.head()"
   ]
  },
  {
   "cell_type": "code",
   "execution_count": null,
   "metadata": {},
   "outputs": [
    {
     "data": {
      "text/plain": [
       "item_category_id\n",
       "40    632822.0\n",
       "30    428740.0\n",
       "55    348999.0\n",
       "19    243429.0\n",
       "37    203810.0\n",
       "23    166656.0\n",
       "28    157259.0\n",
       "20    105982.0\n",
       "71     99136.0\n",
       "65     71420.0\n",
       "Name: item_cnt_day, dtype: float64"
      ]
     },
     "execution_count": 35,
     "metadata": {},
     "output_type": "execute_result"
    }
   ],
   "source": [
    "# obtenemos el total de artículos vendidos por categoría\n",
    "items_category = items_category.groupby('item_category_id')['item_cnt_day'].sum()\n",
    "items_category.sort_values(ascending=False).head(10) # primeros elementos"
   ]
  },
  {
   "cell_type": "code",
   "execution_count": null,
   "metadata": {},
   "outputs": [
    {
     "data": {
      "text/plain": [
       "item_category_id\n",
       "27    8.0\n",
       "48    6.0\n",
       "11    4.0\n",
       "53    3.0\n",
       "52    3.0\n",
       "50    3.0\n",
       "0     3.0\n",
       "1     2.0\n",
       "10    1.0\n",
       "51    1.0\n",
       "Name: item_cnt_day, dtype: float64"
      ]
     },
     "execution_count": 36,
     "metadata": {},
     "output_type": "execute_result"
    }
   ],
   "source": [
    "items_category.sort_values(ascending=False).tail(10) # ultimos elementos "
   ]
  },
  {
   "cell_type": "code",
   "execution_count": 37,
   "metadata": {},
   "outputs": [
    {
     "data": {
      "text/plain": [
       "<Axes: xlabel='item_category_id'>"
      ]
     },
     "execution_count": 37,
     "metadata": {},
     "output_type": "execute_result"
    },
    {
     "data": {
      "image/png": "[encoded data removed]",
      "text/plain": [
       "<Figure size 1000x300 with 1 Axes>"
      ]
     },
     "metadata": {},
     "output_type": "display_data"
    }
   ],
   "source": [
    "# gráficamos el resultado\n",
    "plt.figure(figsize=(10,3))\n",
    "plt.grid(alpha=0.3)\n",
    "items_category[items_category>10000].plot(kind='bar', width=0.8) # gráficamos solo las categorías con más de mil productos vendidos"
   ]
  },
  {
   "cell_type": "markdown",
   "metadata": {},
   "source": [
    "Observamos que la diferencia con respecto al número de productos vendidos entre diferentes categorías es muy grande, siendo la categoría con id 40 la que más productos vendió, con más de 60 mil artículos vendidos, seguida por el id 30 con más de 40 mil artículos y el id 55 con más de 30 mil artículos, en comparación con algunas categorías como el id 51 que cuenta con apenas 1 artículo vendido. \n",
    "\n",
    "### Artículos por tienda"
   ]
  },
  {
   "cell_type": "code",
   "execution_count": 38,
   "metadata": {},
   "outputs": [],
   "source": [
    "# obtenemos el número de articulos vendidos por tienda\n",
    "items_shops = train.groupby('shop_id')['item_cnt_day'].sum()"
   ]
  },
  {
   "cell_type": "code",
   "execution_count": 39,
   "metadata": {},
   "outputs": [
    {
     "data": {
      "text/plain": [
       "shop_id\n",
       "31    279435.0\n",
       "25    217592.0\n",
       "28    170166.0\n",
       "54    170031.0\n",
       "57    136000.0\n",
       "42    127742.0\n",
       "27    125631.0\n",
       "6      94947.0\n",
       "58     80142.0\n",
       "56     76582.0\n",
       "Name: item_cnt_day, dtype: float64"
      ]
     },
     "execution_count": 39,
     "metadata": {},
     "output_type": "execute_result"
    }
   ],
   "source": [
    "items_shops.sort_values(ascending=False).head(10)"
   ]
  },
  {
   "cell_type": "code",
   "execution_count": 40,
   "metadata": {},
   "outputs": [
    {
     "data": {
      "text/plain": [
       "<Axes: xlabel='shop_id'>"
      ]
     },
     "execution_count": 40,
     "metadata": {},
     "output_type": "execute_result"
    },
    {
     "data": {
      "image/png": "[encoded data removed]",
      "text/plain": [
       "<Figure size 1000x300 with 1 Axes>"
      ]
     },
     "metadata": {},
     "output_type": "display_data"
    }
   ],
   "source": [
    "# gráficamos el resultado\n",
    "plt.figure(figsize=(10,3))\n",
    "plt.grid(alpha=0.3)\n",
    "items_shops.plot(kind='bar', width=0.8)"
   ]
  },
  {
   "cell_type": "markdown",
   "metadata": {},
   "source": [
    "Del mismo modo, podemos ver una diferencia importante entre el número de artículos vendidos en diferentes tiendas. Encabezando las ventas, la tienda con id 31 con poco más de 250 mil artículos, siguida por el id 25 con cerca de 217 mil artículos."
   ]
  },
  {
   "cell_type": "markdown",
   "metadata": {},
   "source": [
    "## Preparación de los datos"
   ]
  },
  {
   "cell_type": "markdown",
   "metadata": {},
   "source": [
    "### Nombres de tiendas duplicados\n",
    "Las siguientes tiendas tienen nombres muy similares con apenas algunas variaciones, esto indica que posiblemente se trate de la misma tienda. Por esta razón, asignaremos las referencias de el conjunto de entrenamiento y prueba a una única tienda."
   ]
  },
  {
   "cell_type": "code",
   "execution_count": 41,
   "metadata": {},
   "outputs": [
    {
     "name": "stdout",
     "output_type": "stream",
     "text": [
      "!Якутск Орджоникидзе, 56 фран\n",
      "Якутск Орджоникидзе, 56\n",
      "\n",
      "!Якутск ТЦ \"Центральный\" фран\n",
      "Якутск ТЦ \"Центральный\"\n",
      "\n",
      "Жуковский ул. Чкалова 39м?\n",
      "Жуковский ул. Чкалова 39м²\n",
      "\n",
      "РостовНаДону ТРК \"Мегацентр Горизонт\"\n",
      "РостовНаДону ТРК \"Мегацентр Горизонт\" Островной\n"
     ]
    }
   ],
   "source": [
    "# tiendas con nombre similares\n",
    "print(shops[\"shop_name\"][0])\n",
    "print(shops[\"shop_name\"][57])\n",
    "print()\n",
    "print(shops[\"shop_name\"][1])\n",
    "print(shops[\"shop_name\"][58])\n",
    "print()\n",
    "print(shops[\"shop_name\"][10])\n",
    "print(shops[\"shop_name\"][11])\n",
    "print()\n",
    "print(shops[\"shop_name\"][39])\n",
    "print(shops[\"shop_name\"][40])"
   ]
  },
  {
   "cell_type": "code",
   "execution_count": 42,
   "metadata": {},
   "outputs": [],
   "source": [
    "# asignamos todas las referencias a un único id de tienda\n",
    "\n",
    "train.loc[train[\"shop_id\"] == 0, \"shop_id\"] = 57\n",
    "train.loc[train[\"shop_id\"] == 1, \"shop_id\"] = 58\n",
    "train.loc[train[\"shop_id\"] == 10, \"shop_id\"] = 11\n",
    "train.loc[train[\"shop_id\"] == 39, \"shop_id\"] = 40\n",
    "\n",
    "test_features.loc[test_features[\"shop_id\"] == 0, \"shop_id\"] = 57\n",
    "test_features.loc[test_features[\"shop_id\"] == 1, \"shop_id\"] = 58\n",
    "test_features.loc[test_features[\"shop_id\"] == 10, \"shop_id\"] = 11\n",
    "test_features.loc[test_features[\"shop_id\"] == 39, \"shop_id\"] = 40"
   ]
  },
  {
   "cell_type": "markdown",
   "metadata": {},
   "source": [
    "### Extracción del nombre de la ciudad\n",
    "Sabemos que el nombre de cada tienda empieza con el nombre de la ciudad. Por lo tanto, extraeremos este nombre y luego lo codificaremos para el entrenamiento del modelo."
   ]
  },
  {
   "cell_type": "code",
   "execution_count": 43,
   "metadata": {},
   "outputs": [
    {
     "data": {
      "text/plain": [
       "array(['!Якутск', 'Адыгея', 'Балашиха', 'Волжский', 'Вологда', 'Воронеж',\n",
       "       'Выездная', 'Жуковский', 'Интернет-магазин', 'Казань', 'Калуга',\n",
       "       'Коломна', 'Красноярск', 'Курск', 'Москва', 'Мытищи', 'Н.Новгород',\n",
       "       'Новосибирск', 'Омск', 'РостовНаДону', 'СПб', 'Самара', 'Сергиев',\n",
       "       'Сургут', 'Томск', 'Тюмень', 'Уфа', 'Химки', 'Цифровой', 'Чехов',\n",
       "       'Якутск', 'Ярославль'], dtype=object)"
      ]
     },
     "execution_count": 43,
     "metadata": {},
     "output_type": "execute_result"
    }
   ],
   "source": [
    "shops[\"city\"] = shops[\"shop_name\"].apply(lambda x: x.split()[0]) # obtenemos la primer palabra del nombre de la tienda\n",
    "shops[\"city\"].unique()\n"
   ]
  },
  {
   "cell_type": "code",
   "execution_count": 44,
   "metadata": {},
   "outputs": [],
   "source": [
    "\n",
    "shops.loc[shops[\"city\"] == \"!Якутск\", \"city\"] = \"Якутск\" # corregimos uno de los nombres\n"
   ]
  },
  {
   "cell_type": "code",
   "execution_count": 45,
   "metadata": {},
   "outputs": [
    {
     "data": {
      "text/html": [
       "<div>\n",
       "<style scoped>\n",
       "    .dataframe tbody tr th:only-of-type {\n",
       "        vertical-align: middle;\n",
       "    }\n",
       "\n",
       "    .dataframe tbody tr th {\n",
       "        vertical-align: top;\n",
       "    }\n",
       "\n",
       "    .dataframe thead th {\n",
       "        text-align: right;\n",
       "    }\n",
       "</style>\n",
       "<table border=\"1\" class=\"dataframe\">\n",
       "  <thead>\n",
       "    <tr style=\"text-align: right;\">\n",
       "      <th></th>\n",
       "      <th>shop_id</th>\n",
       "      <th>city</th>\n",
       "    </tr>\n",
       "  </thead>\n",
       "  <tbody>\n",
       "    <tr>\n",
       "      <th>0</th>\n",
       "      <td>0</td>\n",
       "      <td>29</td>\n",
       "    </tr>\n",
       "    <tr>\n",
       "      <th>1</th>\n",
       "      <td>1</td>\n",
       "      <td>29</td>\n",
       "    </tr>\n",
       "    <tr>\n",
       "      <th>2</th>\n",
       "      <td>2</td>\n",
       "      <td>0</td>\n",
       "    </tr>\n",
       "    <tr>\n",
       "      <th>3</th>\n",
       "      <td>3</td>\n",
       "      <td>1</td>\n",
       "    </tr>\n",
       "    <tr>\n",
       "      <th>4</th>\n",
       "      <td>4</td>\n",
       "      <td>2</td>\n",
       "    </tr>\n",
       "  </tbody>\n",
       "</table>\n",
       "</div>"
      ],
      "text/plain": [
       "   shop_id  city\n",
       "0        0    29\n",
       "1        1    29\n",
       "2        2     0\n",
       "3        3     1\n",
       "4        4     2"
      ]
     },
     "execution_count": 45,
     "metadata": {},
     "output_type": "execute_result"
    }
   ],
   "source": [
    "# códificamos los nombres de las ciudades \n",
    "\n",
    "label_encoder = LabelEncoder()\n",
    "shops[\"city\"] = label_encoder.fit_transform(shops[\"city\"])\n",
    "shops = shops.drop(\"shop_name\", axis = 1) # eliminamos el nombre de las tiendas\n",
    "shops.head()"
   ]
  },
  {
   "cell_type": "code",
   "execution_count": 46,
   "metadata": {},
   "outputs": [
    {
     "data": {
      "text/html": [
       "<div>\n",
       "<style scoped>\n",
       "    .dataframe tbody tr th:only-of-type {\n",
       "        vertical-align: middle;\n",
       "    }\n",
       "\n",
       "    .dataframe tbody tr th {\n",
       "        vertical-align: top;\n",
       "    }\n",
       "\n",
       "    .dataframe thead th {\n",
       "        text-align: right;\n",
       "    }\n",
       "</style>\n",
       "<table border=\"1\" class=\"dataframe\">\n",
       "  <thead>\n",
       "    <tr style=\"text-align: right;\">\n",
       "      <th></th>\n",
       "      <th>date</th>\n",
       "      <th>date_block_num</th>\n",
       "      <th>shop_id</th>\n",
       "      <th>item_id</th>\n",
       "      <th>item_price</th>\n",
       "      <th>item_cnt_day</th>\n",
       "    </tr>\n",
       "  </thead>\n",
       "  <tbody>\n",
       "    <tr>\n",
       "      <th>0</th>\n",
       "      <td>2013-01-02</td>\n",
       "      <td>0</td>\n",
       "      <td>59</td>\n",
       "      <td>22154</td>\n",
       "      <td>999.00</td>\n",
       "      <td>1.0</td>\n",
       "    </tr>\n",
       "    <tr>\n",
       "      <th>1</th>\n",
       "      <td>2013-01-03</td>\n",
       "      <td>0</td>\n",
       "      <td>25</td>\n",
       "      <td>2552</td>\n",
       "      <td>899.00</td>\n",
       "      <td>1.0</td>\n",
       "    </tr>\n",
       "    <tr>\n",
       "      <th>3</th>\n",
       "      <td>2013-01-06</td>\n",
       "      <td>0</td>\n",
       "      <td>25</td>\n",
       "      <td>2554</td>\n",
       "      <td>1709.05</td>\n",
       "      <td>1.0</td>\n",
       "    </tr>\n",
       "    <tr>\n",
       "      <th>4</th>\n",
       "      <td>2013-01-15</td>\n",
       "      <td>0</td>\n",
       "      <td>25</td>\n",
       "      <td>2555</td>\n",
       "      <td>1099.00</td>\n",
       "      <td>1.0</td>\n",
       "    </tr>\n",
       "    <tr>\n",
       "      <th>5</th>\n",
       "      <td>2013-01-10</td>\n",
       "      <td>0</td>\n",
       "      <td>25</td>\n",
       "      <td>2564</td>\n",
       "      <td>349.00</td>\n",
       "      <td>1.0</td>\n",
       "    </tr>\n",
       "    <tr>\n",
       "      <th>...</th>\n",
       "      <td>...</td>\n",
       "      <td>...</td>\n",
       "      <td>...</td>\n",
       "      <td>...</td>\n",
       "      <td>...</td>\n",
       "      <td>...</td>\n",
       "    </tr>\n",
       "    <tr>\n",
       "      <th>2935844</th>\n",
       "      <td>2015-10-10</td>\n",
       "      <td>33</td>\n",
       "      <td>25</td>\n",
       "      <td>7409</td>\n",
       "      <td>299.00</td>\n",
       "      <td>1.0</td>\n",
       "    </tr>\n",
       "    <tr>\n",
       "      <th>2935845</th>\n",
       "      <td>2015-10-09</td>\n",
       "      <td>33</td>\n",
       "      <td>25</td>\n",
       "      <td>7460</td>\n",
       "      <td>299.00</td>\n",
       "      <td>1.0</td>\n",
       "    </tr>\n",
       "    <tr>\n",
       "      <th>2935846</th>\n",
       "      <td>2015-10-14</td>\n",
       "      <td>33</td>\n",
       "      <td>25</td>\n",
       "      <td>7459</td>\n",
       "      <td>349.00</td>\n",
       "      <td>1.0</td>\n",
       "    </tr>\n",
       "    <tr>\n",
       "      <th>2935847</th>\n",
       "      <td>2015-10-22</td>\n",
       "      <td>33</td>\n",
       "      <td>25</td>\n",
       "      <td>7440</td>\n",
       "      <td>299.00</td>\n",
       "      <td>1.0</td>\n",
       "    </tr>\n",
       "    <tr>\n",
       "      <th>2935848</th>\n",
       "      <td>2015-10-03</td>\n",
       "      <td>33</td>\n",
       "      <td>25</td>\n",
       "      <td>7460</td>\n",
       "      <td>299.00</td>\n",
       "      <td>1.0</td>\n",
       "    </tr>\n",
       "  </tbody>\n",
       "</table>\n",
       "<p>2886189 rows × 6 columns</p>\n",
       "</div>"
      ],
      "text/plain": [
       "              date  date_block_num  shop_id  item_id  item_price  item_cnt_day\n",
       "0       2013-01-02               0       59    22154      999.00           1.0\n",
       "1       2013-01-03               0       25     2552      899.00           1.0\n",
       "3       2013-01-06               0       25     2554     1709.05           1.0\n",
       "4       2013-01-15               0       25     2555     1099.00           1.0\n",
       "5       2013-01-10               0       25     2564      349.00           1.0\n",
       "...            ...             ...      ...      ...         ...           ...\n",
       "2935844 2015-10-10              33       25     7409      299.00           1.0\n",
       "2935845 2015-10-09              33       25     7460      299.00           1.0\n",
       "2935846 2015-10-14              33       25     7459      349.00           1.0\n",
       "2935847 2015-10-22              33       25     7440      299.00           1.0\n",
       "2935848 2015-10-03              33       25     7460      299.00           1.0\n",
       "\n",
       "[2886189 rows x 6 columns]"
      ]
     },
     "execution_count": 46,
     "metadata": {},
     "output_type": "execute_result"
    }
   ],
   "source": [
    "train"
   ]
  },
  {
   "cell_type": "markdown",
   "metadata": {},
   "source": [
    "### Eliminación de los nombres de los artículos\n",
    "Dado que los nombres de las tiendas, artículos y categorías no se pueden utilizar para las predicciones, eliminaremos estos datos posterior a la concatenación de los datos. En su lugar, usaremos los IDs correspondientes para entrenar nuestros modelos."
   ]
  },
  {
   "cell_type": "code",
   "execution_count": 47,
   "metadata": {},
   "outputs": [],
   "source": [
    "items.drop([\"item_name\"], axis = 1, inplace=True)"
   ]
  },
  {
   "cell_type": "markdown",
   "metadata": {},
   "source": [
    "### Artículos sin ventas\n",
    "Veamos si existen productos en la lista de \"items\" sin ventas y agreguemos una columan que lo indique"
   ]
  },
  {
   "cell_type": "code",
   "execution_count": 48,
   "metadata": {},
   "outputs": [],
   "source": [
    "items['first_sold_month'] = train.groupby(\"item_id\").agg({\"date_block_num\": \"min\"})[\"date_block_num\"] # obtenemos el primer mes en el que cada producto fue vendido del conjunto de entrenamiento"
   ]
  },
  {
   "cell_type": "code",
   "execution_count": 49,
   "metadata": {},
   "outputs": [
    {
     "data": {
      "text/html": [
       "<div>\n",
       "<style scoped>\n",
       "    .dataframe tbody tr th:only-of-type {\n",
       "        vertical-align: middle;\n",
       "    }\n",
       "\n",
       "    .dataframe tbody tr th {\n",
       "        vertical-align: top;\n",
       "    }\n",
       "\n",
       "    .dataframe thead th {\n",
       "        text-align: right;\n",
       "    }\n",
       "</style>\n",
       "<table border=\"1\" class=\"dataframe\">\n",
       "  <thead>\n",
       "    <tr style=\"text-align: right;\">\n",
       "      <th></th>\n",
       "      <th>item_id</th>\n",
       "      <th>item_category_id</th>\n",
       "      <th>first_sold_month</th>\n",
       "    </tr>\n",
       "  </thead>\n",
       "  <tbody>\n",
       "    <tr>\n",
       "      <th>39</th>\n",
       "      <td>39</td>\n",
       "      <td>41</td>\n",
       "      <td>NaN</td>\n",
       "    </tr>\n",
       "    <tr>\n",
       "      <th>83</th>\n",
       "      <td>83</td>\n",
       "      <td>40</td>\n",
       "      <td>NaN</td>\n",
       "    </tr>\n",
       "    <tr>\n",
       "      <th>102</th>\n",
       "      <td>102</td>\n",
       "      <td>76</td>\n",
       "      <td>NaN</td>\n",
       "    </tr>\n",
       "    <tr>\n",
       "      <th>103</th>\n",
       "      <td>103</td>\n",
       "      <td>76</td>\n",
       "      <td>NaN</td>\n",
       "    </tr>\n",
       "    <tr>\n",
       "      <th>140</th>\n",
       "      <td>140</td>\n",
       "      <td>45</td>\n",
       "      <td>NaN</td>\n",
       "    </tr>\n",
       "    <tr>\n",
       "      <th>...</th>\n",
       "      <td>...</td>\n",
       "      <td>...</td>\n",
       "      <td>...</td>\n",
       "    </tr>\n",
       "    <tr>\n",
       "      <th>21975</th>\n",
       "      <td>21975</td>\n",
       "      <td>61</td>\n",
       "      <td>NaN</td>\n",
       "    </tr>\n",
       "    <tr>\n",
       "      <th>21993</th>\n",
       "      <td>21993</td>\n",
       "      <td>62</td>\n",
       "      <td>NaN</td>\n",
       "    </tr>\n",
       "    <tr>\n",
       "      <th>22022</th>\n",
       "      <td>22022</td>\n",
       "      <td>40</td>\n",
       "      <td>NaN</td>\n",
       "    </tr>\n",
       "    <tr>\n",
       "      <th>22035</th>\n",
       "      <td>22035</td>\n",
       "      <td>40</td>\n",
       "      <td>NaN</td>\n",
       "    </tr>\n",
       "    <tr>\n",
       "      <th>22137</th>\n",
       "      <td>22137</td>\n",
       "      <td>40</td>\n",
       "      <td>NaN</td>\n",
       "    </tr>\n",
       "  </tbody>\n",
       "</table>\n",
       "<p>673 rows × 3 columns</p>\n",
       "</div>"
      ],
      "text/plain": [
       "       item_id  item_category_id  first_sold_month\n",
       "39          39                41               NaN\n",
       "83          83                40               NaN\n",
       "102        102                76               NaN\n",
       "103        103                76               NaN\n",
       "140        140                45               NaN\n",
       "...        ...               ...               ...\n",
       "21975    21975                61               NaN\n",
       "21993    21993                62               NaN\n",
       "22022    22022                40               NaN\n",
       "22035    22035                40               NaN\n",
       "22137    22137                40               NaN\n",
       "\n",
       "[673 rows x 3 columns]"
      ]
     },
     "execution_count": 49,
     "metadata": {},
     "output_type": "execute_result"
    }
   ],
   "source": [
    "items[items['first_sold_month'].isna()]"
   ]
  },
  {
   "cell_type": "markdown",
   "metadata": {},
   "source": [
    "Observamos que existen 365 artículos que no tienen ventas registradas en el conjunto de entrenamiento.  \n",
    "Debido a que estos productos no fueron vendidos en el rango de fechas de Enero 2013 (date_block_num = 0) a Octubre 2015 (date_block_num = 33), consideraremos que podrían realizar su primera venta en Noviembre 2015 y les asignaremos el valor 34 para que no sean considerados dentro del conjunto de datos de prueba."
   ]
  },
  {
   "cell_type": "code",
   "execution_count": 50,
   "metadata": {},
   "outputs": [],
   "source": [
    "items['first_sold_month'] = items['first_sold_month'].fillna(34)"
   ]
  },
  {
   "cell_type": "markdown",
   "metadata": {},
   "source": [
    "Según la traducción, la primera palabra en el nombre de la categoría es la que realmente se refiere al nombre, mientras que la segunda palabra es una subcategoría. Por lo tanto, crearemos una nueva característica con la categoría principal y la códificaremos posteriormente."
   ]
  },
  {
   "cell_type": "code",
   "execution_count": 51,
   "metadata": {},
   "outputs": [
    {
     "data": {
      "text/plain": [
       "9                     Доставка товара\n",
       "50                   Книги - Открытки\n",
       "72                  Подарки - Фигурки\n",
       "8                      Билеты (Цифра)\n",
       "4                    Аксессуары - PSP\n",
       "0             PC - Гарнитуры/Наушники\n",
       "37                     Кино - Blu-Ray\n",
       "75       Программы - Для дома и офиса\n",
       "44         Книги - Аудиокниги (Цифра)\n",
       "48    Книги - Компьютерная литература\n",
       "69                 Подарки - Сувениры\n",
       "20                         Игры - PS4\n",
       "47             Книги - Комиксы, манга\n",
       "57                       Музыка - MP3\n",
       "46          Книги - Бизнес литература\n",
       "12              Игровые консоли - PS4\n",
       "83                   Элементы питания\n",
       "16         Игровые консоли - XBOX ONE\n",
       "31                    Игры PC - Цифра\n",
       "45              Книги - Аудиокниги 1С\n",
       "Name: item_category_name, dtype: object"
      ]
     },
     "execution_count": 51,
     "metadata": {},
     "output_type": "execute_result"
    }
   ],
   "source": [
    "categories['item_category_name'].sample(20)"
   ]
  },
  {
   "cell_type": "code",
   "execution_count": 52,
   "metadata": {},
   "outputs": [
    {
     "data": {
      "text/plain": [
       "main_category\n",
       "Игры          14\n",
       "Книги         13\n",
       "Подарки       12\n",
       "Игровые        8\n",
       "Аксессуары     7\n",
       "Музыка         6\n",
       "Программы      6\n",
       "Карты          5\n",
       "Кино           5\n",
       "Служебные      2\n",
       "Чистые         2\n",
       "PC             1\n",
       "Билеты         1\n",
       "Доставка       1\n",
       "Элементы       1\n",
       "Name: count, dtype: int64"
      ]
     },
     "execution_count": 52,
     "metadata": {},
     "output_type": "execute_result"
    }
   ],
   "source": [
    "categories[\"main_category\"]=categories[\"item_category_name\"].apply(lambda x: x.split()[0])  # obtenemos la primera palabra de cada categoría\n",
    "categories[\"main_category\"].value_counts() # obtenemos un conteo de los valores únicos"
   ]
  },
  {
   "cell_type": "code",
   "execution_count": 53,
   "metadata": {},
   "outputs": [],
   "source": [
    "label_encoder = LabelEncoder()\n",
    "\n",
    "categories[\"main_category\"] = label_encoder.fit_transform(categories[\"main_category\"]) # códificamos las categorías principales\n",
    "categories.drop(\"item_category_name\", axis = 1, inplace=True) # eliminamos el nombre de las categorías"
   ]
  },
  {
   "cell_type": "code",
   "execution_count": 54,
   "metadata": {},
   "outputs": [],
   "source": [
    "# obtención del mes de la primera venta\n",
    "#train = train.merge(items, on='item_id', how='left')\n",
    "# obtención de la categoría principal\n",
    "#train = train.merge(categories, on='item_category_id', how='left')\n",
    "#obtención de la ciudad\n",
    "#train = train.merge(shops, on='shop_id', how='left')"
   ]
  },
  {
   "cell_type": "code",
   "execution_count": 55,
   "metadata": {},
   "outputs": [
    {
     "name": "stdout",
     "output_type": "stream",
     "text": [
      "<class 'pandas.core.frame.DataFrame'>\n",
      "Index: 2886189 entries, 0 to 2935848\n",
      "Data columns (total 6 columns):\n",
      " #   Column          Non-Null Count    Dtype         \n",
      "---  ------          --------------    -----         \n",
      " 0   date            2886189 non-null  datetime64[ns]\n",
      " 1   date_block_num  2886189 non-null  int64         \n",
      " 2   shop_id         2886189 non-null  int64         \n",
      " 3   item_id         2886189 non-null  int64         \n",
      " 4   item_price      2886189 non-null  float64       \n",
      " 5   item_cnt_day    2886189 non-null  float64       \n",
      "dtypes: datetime64[ns](1), float64(2), int64(3)\n",
      "memory usage: 154.1 MB\n"
     ]
    },
    {
     "data": {
      "text/html": [
       "<div>\n",
       "<style scoped>\n",
       "    .dataframe tbody tr th:only-of-type {\n",
       "        vertical-align: middle;\n",
       "    }\n",
       "\n",
       "    .dataframe tbody tr th {\n",
       "        vertical-align: top;\n",
       "    }\n",
       "\n",
       "    .dataframe thead th {\n",
       "        text-align: right;\n",
       "    }\n",
       "</style>\n",
       "<table border=\"1\" class=\"dataframe\">\n",
       "  <thead>\n",
       "    <tr style=\"text-align: right;\">\n",
       "      <th></th>\n",
       "      <th>date</th>\n",
       "      <th>date_block_num</th>\n",
       "      <th>shop_id</th>\n",
       "      <th>item_id</th>\n",
       "      <th>item_price</th>\n",
       "      <th>item_cnt_day</th>\n",
       "    </tr>\n",
       "  </thead>\n",
       "  <tbody>\n",
       "    <tr>\n",
       "      <th>0</th>\n",
       "      <td>2013-01-02</td>\n",
       "      <td>0</td>\n",
       "      <td>59</td>\n",
       "      <td>22154</td>\n",
       "      <td>999.00</td>\n",
       "      <td>1.0</td>\n",
       "    </tr>\n",
       "    <tr>\n",
       "      <th>1</th>\n",
       "      <td>2013-01-03</td>\n",
       "      <td>0</td>\n",
       "      <td>25</td>\n",
       "      <td>2552</td>\n",
       "      <td>899.00</td>\n",
       "      <td>1.0</td>\n",
       "    </tr>\n",
       "    <tr>\n",
       "      <th>3</th>\n",
       "      <td>2013-01-06</td>\n",
       "      <td>0</td>\n",
       "      <td>25</td>\n",
       "      <td>2554</td>\n",
       "      <td>1709.05</td>\n",
       "      <td>1.0</td>\n",
       "    </tr>\n",
       "    <tr>\n",
       "      <th>4</th>\n",
       "      <td>2013-01-15</td>\n",
       "      <td>0</td>\n",
       "      <td>25</td>\n",
       "      <td>2555</td>\n",
       "      <td>1099.00</td>\n",
       "      <td>1.0</td>\n",
       "    </tr>\n",
       "    <tr>\n",
       "      <th>5</th>\n",
       "      <td>2013-01-10</td>\n",
       "      <td>0</td>\n",
       "      <td>25</td>\n",
       "      <td>2564</td>\n",
       "      <td>349.00</td>\n",
       "      <td>1.0</td>\n",
       "    </tr>\n",
       "  </tbody>\n",
       "</table>\n",
       "</div>"
      ],
      "text/plain": [
       "        date  date_block_num  shop_id  item_id  item_price  item_cnt_day\n",
       "0 2013-01-02               0       59    22154      999.00           1.0\n",
       "1 2013-01-03               0       25     2552      899.00           1.0\n",
       "3 2013-01-06               0       25     2554     1709.05           1.0\n",
       "4 2013-01-15               0       25     2555     1099.00           1.0\n",
       "5 2013-01-10               0       25     2564      349.00           1.0"
      ]
     },
     "execution_count": 55,
     "metadata": {},
     "output_type": "execute_result"
    }
   ],
   "source": [
    "train.info(show_counts=True)\n",
    "train.head()"
   ]
  },
  {
   "cell_type": "markdown",
   "metadata": {},
   "source": [
    "### Ganancias\n",
    "Obtengamos una nueva columna la cuál indique las ganancias. Es decir, el precio por el número de artículos vendidos de cada transacción."
   ]
  },
  {
   "cell_type": "code",
   "execution_count": 57,
   "metadata": {},
   "outputs": [],
   "source": [
    "train['revenue'] = train['item_price'] * train['item_cnt_day']"
   ]
  },
  {
   "cell_type": "markdown",
   "metadata": {},
   "source": [
    "### Agrupación mensual\n",
    "\n",
    "Agruparemos los datos por mes, tienda y artículo."
   ]
  },
  {
   "cell_type": "code",
   "execution_count": null,
   "metadata": {},
   "outputs": [],
   "source": [
    "monthly_sales = train.groupby(['date_block_num', 'shop_id', 'item_id']).agg({\n",
    "    'item_cnt_day':'sum',\n",
    "    'revenue':'sum'\n",
    "}).reset_index()"
   ]
  },
  {
   "cell_type": "code",
   "execution_count": 59,
   "metadata": {},
   "outputs": [],
   "source": [
    "# cambiamos el nombre de la columna de cantidades\n",
    "monthly_sales.rename(columns={'item_cnt_day': 'item_cnt_month'}, inplace=True)"
   ]
  },
  {
   "cell_type": "markdown",
   "metadata": {},
   "source": [
    "### Integración del conjunto de entrenamiento"
   ]
  },
  {
   "cell_type": "code",
   "execution_count": 61,
   "metadata": {},
   "outputs": [],
   "source": [
    "# obtenemos el mes de la primera venta\n",
    "monthly_sales = monthly_sales.merge(items, on='item_id', how='left')\n",
    "# obtenemos la categoría principal\n",
    "monthly_sales = monthly_sales.merge(categories, on='item_category_id', how='left')\n",
    "# obtenemos la ciudad\n",
    "monthly_sales = monthly_sales.merge(shops, on='shop_id', how='left')"
   ]
  },
  {
   "cell_type": "code",
   "execution_count": 62,
   "metadata": {},
   "outputs": [
    {
     "data": {
      "text/html": [
       "<div>\n",
       "<style scoped>\n",
       "    .dataframe tbody tr th:only-of-type {\n",
       "        vertical-align: middle;\n",
       "    }\n",
       "\n",
       "    .dataframe tbody tr th {\n",
       "        vertical-align: top;\n",
       "    }\n",
       "\n",
       "    .dataframe thead th {\n",
       "        text-align: right;\n",
       "    }\n",
       "</style>\n",
       "<table border=\"1\" class=\"dataframe\">\n",
       "  <thead>\n",
       "    <tr style=\"text-align: right;\">\n",
       "      <th></th>\n",
       "      <th>date_block_num</th>\n",
       "      <th>shop_id</th>\n",
       "      <th>item_id</th>\n",
       "      <th>item_cnt_month</th>\n",
       "      <th>revenue</th>\n",
       "      <th>item_category_id</th>\n",
       "      <th>first_sold_month</th>\n",
       "      <th>main_category</th>\n",
       "      <th>city</th>\n",
       "    </tr>\n",
       "  </thead>\n",
       "  <tbody>\n",
       "    <tr>\n",
       "      <th>0</th>\n",
       "      <td>0</td>\n",
       "      <td>2</td>\n",
       "      <td>27</td>\n",
       "      <td>1.0</td>\n",
       "      <td>2499.0</td>\n",
       "      <td>19</td>\n",
       "      <td>0.0</td>\n",
       "      <td>5</td>\n",
       "      <td>0</td>\n",
       "    </tr>\n",
       "    <tr>\n",
       "      <th>1</th>\n",
       "      <td>0</td>\n",
       "      <td>2</td>\n",
       "      <td>33</td>\n",
       "      <td>1.0</td>\n",
       "      <td>499.0</td>\n",
       "      <td>37</td>\n",
       "      <td>0.0</td>\n",
       "      <td>7</td>\n",
       "      <td>0</td>\n",
       "    </tr>\n",
       "    <tr>\n",
       "      <th>2</th>\n",
       "      <td>0</td>\n",
       "      <td>2</td>\n",
       "      <td>317</td>\n",
       "      <td>1.0</td>\n",
       "      <td>299.0</td>\n",
       "      <td>45</td>\n",
       "      <td>0.0</td>\n",
       "      <td>8</td>\n",
       "      <td>0</td>\n",
       "    </tr>\n",
       "    <tr>\n",
       "      <th>3</th>\n",
       "      <td>0</td>\n",
       "      <td>2</td>\n",
       "      <td>438</td>\n",
       "      <td>1.0</td>\n",
       "      <td>299.0</td>\n",
       "      <td>45</td>\n",
       "      <td>0.0</td>\n",
       "      <td>8</td>\n",
       "      <td>0</td>\n",
       "    </tr>\n",
       "    <tr>\n",
       "      <th>4</th>\n",
       "      <td>0</td>\n",
       "      <td>2</td>\n",
       "      <td>471</td>\n",
       "      <td>2.0</td>\n",
       "      <td>798.0</td>\n",
       "      <td>49</td>\n",
       "      <td>0.0</td>\n",
       "      <td>8</td>\n",
       "      <td>0</td>\n",
       "    </tr>\n",
       "    <tr>\n",
       "      <th>...</th>\n",
       "      <td>...</td>\n",
       "      <td>...</td>\n",
       "      <td>...</td>\n",
       "      <td>...</td>\n",
       "      <td>...</td>\n",
       "      <td>...</td>\n",
       "      <td>...</td>\n",
       "      <td>...</td>\n",
       "      <td>...</td>\n",
       "    </tr>\n",
       "    <tr>\n",
       "      <th>1589736</th>\n",
       "      <td>33</td>\n",
       "      <td>59</td>\n",
       "      <td>22087</td>\n",
       "      <td>6.0</td>\n",
       "      <td>714.0</td>\n",
       "      <td>83</td>\n",
       "      <td>0.0</td>\n",
       "      <td>14</td>\n",
       "      <td>30</td>\n",
       "    </tr>\n",
       "    <tr>\n",
       "      <th>1589737</th>\n",
       "      <td>33</td>\n",
       "      <td>59</td>\n",
       "      <td>22088</td>\n",
       "      <td>2.0</td>\n",
       "      <td>238.0</td>\n",
       "      <td>83</td>\n",
       "      <td>0.0</td>\n",
       "      <td>14</td>\n",
       "      <td>30</td>\n",
       "    </tr>\n",
       "    <tr>\n",
       "      <th>1589738</th>\n",
       "      <td>33</td>\n",
       "      <td>59</td>\n",
       "      <td>22091</td>\n",
       "      <td>1.0</td>\n",
       "      <td>179.0</td>\n",
       "      <td>83</td>\n",
       "      <td>0.0</td>\n",
       "      <td>14</td>\n",
       "      <td>30</td>\n",
       "    </tr>\n",
       "    <tr>\n",
       "      <th>1589739</th>\n",
       "      <td>33</td>\n",
       "      <td>59</td>\n",
       "      <td>22100</td>\n",
       "      <td>1.0</td>\n",
       "      <td>629.0</td>\n",
       "      <td>42</td>\n",
       "      <td>30.0</td>\n",
       "      <td>8</td>\n",
       "      <td>30</td>\n",
       "    </tr>\n",
       "    <tr>\n",
       "      <th>1589740</th>\n",
       "      <td>33</td>\n",
       "      <td>59</td>\n",
       "      <td>22102</td>\n",
       "      <td>1.0</td>\n",
       "      <td>1250.0</td>\n",
       "      <td>42</td>\n",
       "      <td>28.0</td>\n",
       "      <td>8</td>\n",
       "      <td>30</td>\n",
       "    </tr>\n",
       "  </tbody>\n",
       "</table>\n",
       "<p>1589741 rows × 9 columns</p>\n",
       "</div>"
      ],
      "text/plain": [
       "         date_block_num  shop_id  item_id  item_cnt_month  revenue  \\\n",
       "0                     0        2       27             1.0   2499.0   \n",
       "1                     0        2       33             1.0    499.0   \n",
       "2                     0        2      317             1.0    299.0   \n",
       "3                     0        2      438             1.0    299.0   \n",
       "4                     0        2      471             2.0    798.0   \n",
       "...                 ...      ...      ...             ...      ...   \n",
       "1589736              33       59    22087             6.0    714.0   \n",
       "1589737              33       59    22088             2.0    238.0   \n",
       "1589738              33       59    22091             1.0    179.0   \n",
       "1589739              33       59    22100             1.0    629.0   \n",
       "1589740              33       59    22102             1.0   1250.0   \n",
       "\n",
       "         item_category_id  first_sold_month  main_category  city  \n",
       "0                      19               0.0              5     0  \n",
       "1                      37               0.0              7     0  \n",
       "2                      45               0.0              8     0  \n",
       "3                      45               0.0              8     0  \n",
       "4                      49               0.0              8     0  \n",
       "...                   ...               ...            ...   ...  \n",
       "1589736                83               0.0             14    30  \n",
       "1589737                83               0.0             14    30  \n",
       "1589738                83               0.0             14    30  \n",
       "1589739                42              30.0              8    30  \n",
       "1589740                42              28.0              8    30  \n",
       "\n",
       "[1589741 rows x 9 columns]"
      ]
     },
     "execution_count": 62,
     "metadata": {},
     "output_type": "execute_result"
    }
   ],
   "source": [
    "monthly_sales"
   ]
  },
  {
   "cell_type": "code",
   "execution_count": null,
   "metadata": {},
   "outputs": [
    {
     "name": "stdout",
     "output_type": "stream",
     "text": [
      "Empty DataFrame\n",
      "Columns: [date_block_num, shop_id, item_id, item_cnt_month, revenue, item_category_id, first_sold_month, main_category, city]\n",
      "Index: []\n",
      "Empty DataFrame\n",
      "Columns: [date_block_num, shop_id, item_id, item_cnt_month, revenue, item_category_id, first_sold_month, main_category, city]\n",
      "Index: []\n"
     ]
    }
   ],
   "source": [
    "# observamos que los datos estén dentro del rango de meses establecido\n",
    "print(monthly_sales[monthly_sales[\"first_sold_month\"]<0])\n",
    "print(monthly_sales[monthly_sales[\"first_sold_month\"]>33])"
   ]
  },
  {
   "cell_type": "code",
   "execution_count": 63,
   "metadata": {},
   "outputs": [
    {
     "data": {
      "text/html": [
       "<div>\n",
       "<style scoped>\n",
       "    .dataframe tbody tr th:only-of-type {\n",
       "        vertical-align: middle;\n",
       "    }\n",
       "\n",
       "    .dataframe tbody tr th {\n",
       "        vertical-align: top;\n",
       "    }\n",
       "\n",
       "    .dataframe thead th {\n",
       "        text-align: right;\n",
       "    }\n",
       "</style>\n",
       "<table border=\"1\" class=\"dataframe\">\n",
       "  <thead>\n",
       "    <tr style=\"text-align: right;\">\n",
       "      <th></th>\n",
       "      <th>ID</th>\n",
       "      <th>shop_id</th>\n",
       "      <th>item_id</th>\n",
       "    </tr>\n",
       "  </thead>\n",
       "  <tbody>\n",
       "    <tr>\n",
       "      <th>0</th>\n",
       "      <td>0</td>\n",
       "      <td>5</td>\n",
       "      <td>5037</td>\n",
       "    </tr>\n",
       "    <tr>\n",
       "      <th>1</th>\n",
       "      <td>1</td>\n",
       "      <td>5</td>\n",
       "      <td>5320</td>\n",
       "    </tr>\n",
       "    <tr>\n",
       "      <th>2</th>\n",
       "      <td>2</td>\n",
       "      <td>5</td>\n",
       "      <td>5233</td>\n",
       "    </tr>\n",
       "    <tr>\n",
       "      <th>3</th>\n",
       "      <td>3</td>\n",
       "      <td>5</td>\n",
       "      <td>5232</td>\n",
       "    </tr>\n",
       "    <tr>\n",
       "      <th>4</th>\n",
       "      <td>4</td>\n",
       "      <td>5</td>\n",
       "      <td>5268</td>\n",
       "    </tr>\n",
       "    <tr>\n",
       "      <th>...</th>\n",
       "      <td>...</td>\n",
       "      <td>...</td>\n",
       "      <td>...</td>\n",
       "    </tr>\n",
       "    <tr>\n",
       "      <th>214195</th>\n",
       "      <td>214195</td>\n",
       "      <td>45</td>\n",
       "      <td>18454</td>\n",
       "    </tr>\n",
       "    <tr>\n",
       "      <th>214196</th>\n",
       "      <td>214196</td>\n",
       "      <td>45</td>\n",
       "      <td>16188</td>\n",
       "    </tr>\n",
       "    <tr>\n",
       "      <th>214197</th>\n",
       "      <td>214197</td>\n",
       "      <td>45</td>\n",
       "      <td>15757</td>\n",
       "    </tr>\n",
       "    <tr>\n",
       "      <th>214198</th>\n",
       "      <td>214198</td>\n",
       "      <td>45</td>\n",
       "      <td>19648</td>\n",
       "    </tr>\n",
       "    <tr>\n",
       "      <th>214199</th>\n",
       "      <td>214199</td>\n",
       "      <td>45</td>\n",
       "      <td>969</td>\n",
       "    </tr>\n",
       "  </tbody>\n",
       "</table>\n",
       "<p>214200 rows × 3 columns</p>\n",
       "</div>"
      ],
      "text/plain": [
       "            ID  shop_id  item_id\n",
       "0            0        5     5037\n",
       "1            1        5     5320\n",
       "2            2        5     5233\n",
       "3            3        5     5232\n",
       "4            4        5     5268\n",
       "...        ...      ...      ...\n",
       "214195  214195       45    18454\n",
       "214196  214196       45    16188\n",
       "214197  214197       45    15757\n",
       "214198  214198       45    19648\n",
       "214199  214199       45      969\n",
       "\n",
       "[214200 rows x 3 columns]"
      ]
     },
     "execution_count": 63,
     "metadata": {},
     "output_type": "execute_result"
    }
   ],
   "source": [
    "test_features"
   ]
  },
  {
   "cell_type": "code",
   "execution_count": 65,
   "metadata": {},
   "outputs": [
    {
     "data": {
      "text/html": [
       "<div>\n",
       "<style scoped>\n",
       "    .dataframe tbody tr th:only-of-type {\n",
       "        vertical-align: middle;\n",
       "    }\n",
       "\n",
       "    .dataframe tbody tr th {\n",
       "        vertical-align: top;\n",
       "    }\n",
       "\n",
       "    .dataframe thead th {\n",
       "        text-align: right;\n",
       "    }\n",
       "</style>\n",
       "<table border=\"1\" class=\"dataframe\">\n",
       "  <thead>\n",
       "    <tr style=\"text-align: right;\">\n",
       "      <th></th>\n",
       "      <th>ID</th>\n",
       "      <th>item_cnt_month</th>\n",
       "    </tr>\n",
       "  </thead>\n",
       "  <tbody>\n",
       "    <tr>\n",
       "      <th>0</th>\n",
       "      <td>0</td>\n",
       "      <td>0.5</td>\n",
       "    </tr>\n",
       "    <tr>\n",
       "      <th>1</th>\n",
       "      <td>1</td>\n",
       "      <td>0.5</td>\n",
       "    </tr>\n",
       "    <tr>\n",
       "      <th>2</th>\n",
       "      <td>2</td>\n",
       "      <td>0.5</td>\n",
       "    </tr>\n",
       "    <tr>\n",
       "      <th>3</th>\n",
       "      <td>3</td>\n",
       "      <td>0.5</td>\n",
       "    </tr>\n",
       "    <tr>\n",
       "      <th>4</th>\n",
       "      <td>4</td>\n",
       "      <td>0.5</td>\n",
       "    </tr>\n",
       "    <tr>\n",
       "      <th>...</th>\n",
       "      <td>...</td>\n",
       "      <td>...</td>\n",
       "    </tr>\n",
       "    <tr>\n",
       "      <th>214195</th>\n",
       "      <td>214195</td>\n",
       "      <td>0.5</td>\n",
       "    </tr>\n",
       "    <tr>\n",
       "      <th>214196</th>\n",
       "      <td>214196</td>\n",
       "      <td>0.5</td>\n",
       "    </tr>\n",
       "    <tr>\n",
       "      <th>214197</th>\n",
       "      <td>214197</td>\n",
       "      <td>0.5</td>\n",
       "    </tr>\n",
       "    <tr>\n",
       "      <th>214198</th>\n",
       "      <td>214198</td>\n",
       "      <td>0.5</td>\n",
       "    </tr>\n",
       "    <tr>\n",
       "      <th>214199</th>\n",
       "      <td>214199</td>\n",
       "      <td>0.5</td>\n",
       "    </tr>\n",
       "  </tbody>\n",
       "</table>\n",
       "<p>214200 rows × 2 columns</p>\n",
       "</div>"
      ],
      "text/plain": [
       "            ID  item_cnt_month\n",
       "0            0             0.5\n",
       "1            1             0.5\n",
       "2            2             0.5\n",
       "3            3             0.5\n",
       "4            4             0.5\n",
       "...        ...             ...\n",
       "214195  214195             0.5\n",
       "214196  214196             0.5\n",
       "214197  214197             0.5\n",
       "214198  214198             0.5\n",
       "214199  214199             0.5\n",
       "\n",
       "[214200 rows x 2 columns]"
      ]
     },
     "execution_count": 65,
     "metadata": {},
     "output_type": "execute_result"
    }
   ],
   "source": [
    "test_tarjet"
   ]
  },
  {
   "cell_type": "markdown",
   "metadata": {},
   "source": [
    "## Segmentación de los datos\n",
    "Una vez que contamos únicamente con características numéricas, separaremos los datos en un conjunto con las características y otro con el objetivo. Este proceso lo realizaremos tanto para el conjunto de entrenamiento como para el conjunto de prueba. En nuestro caso, necesitamos predecir dos características, el número de productos vendidos por tienda y por producto."
   ]
  },
  {
   "cell_type": "code",
   "execution_count": null,
   "metadata": {},
   "outputs": [],
   "source": []
  },
  {
   "cell_type": "code",
   "execution_count": null,
   "metadata": {},
   "outputs": [],
   "source": []
  },
  {
   "cell_type": "markdown",
   "metadata": {},
   "source": [
    "## Normalización de características\n",
    "Ahora normalizaremos las datos, ya que las escalas de las características son muy diferentes entre sí."
   ]
  },
  {
   "cell_type": "code",
   "execution_count": null,
   "metadata": {},
   "outputs": [],
   "source": [
    "\n",
    "\n",
    "\n",
    "scaler = StandardScaler()\n",
    "scaler.fit()\n",
    "\n",
    "# Realizamos la transformación y convertimos a float64\n",
    "#features_train[numeric] = scaler.transform(features_train[numeric]).astype(float)\n",
    "#features_valid[numeric] = scaler.transform(features_valid[numeric]).astype(float)\n",
    "#features_test[numeric] = scaler.transform(features_test[numeric]).astype(float)\n",
    "\n",
    "#pd.options.mode.chained_assignment = None"
   ]
  }
 ],
 "metadata": {
  "kernelspec": {
   "display_name": "Python 3",
   "language": "python",
   "name": "python3"
  },
  "language_info": {
   "codemirror_mode": {
    "name": "ipython",
    "version": 3
   },
   "file_extension": ".py",
   "mimetype": "text/x-python",
   "name": "python",
   "nbconvert_exporter": "python",
   "pygments_lexer": "ipython3",
   "version": "3.11.3"
  }
 },
 "nbformat": 4,
 "nbformat_minor": 2
}
